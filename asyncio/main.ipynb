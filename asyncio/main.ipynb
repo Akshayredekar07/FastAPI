{
 "cells": [
  {
   "cell_type": "markdown",
   "id": "51332282",
   "metadata": {},
   "source": [
    "### **What is Asynchronous Programming?**\n",
    "\n",
    "> * **Asynchronous (async)** means tasks **don’t wait** for each other. Instead of blocking the program until one task finishes, Python **schedules other tasks** to run during that wait time (like I/O operations).\n",
    "> * It is **different from threading or multiprocessing** — it runs in a single thread using an **event loop**.\n",
    "> * **Async programming** is useful for I/O-bound tasks (like reading files, API calls, DB queries).\n"
   ]
  },
  {
   "cell_type": "markdown",
   "id": "d9e50eab",
   "metadata": {},
   "source": [
    "[https://medium.com/@moraneus/mastering-pythons-asyncio-a-practical-guide-0a673265cf04](https://medium.com/@moraneus/mastering-pythons-asyncio-a-practical-guide-0a673265cf04)"
   ]
  },
  {
   "cell_type": "markdown",
   "id": "096168c5",
   "metadata": {},
   "source": [
    "###  **What is asyncio?**\n",
    "`asyncio` is a Python library for **asynchronous (non-blocking)** programming. It is useful for **concurrent tasks**, like handling many API calls or web requests and Works with a **single-threaded event loop**.\n",
    "\n",
    "###  **Key Concepts**\n",
    "\n",
    "- `async def`: Defines a coroutine (async function).\n",
    "- `await`: Tells Python to **pause** and **do something else** while waiting.\n",
    "- `asyncio.run()`: Starts and runs the event loop."
   ]
  },
  {
   "cell_type": "code",
   "execution_count": 5,
   "id": "ad3d7f7b",
   "metadata": {},
   "outputs": [
    {
     "name": "stdout",
     "output_type": "stream",
     "text": [
      "Hello\n",
      "World\n"
     ]
    }
   ],
   "source": [
    "#  Basic Example\n",
    "\n",
    "# You're getting this error because you're likely running the code inside a Jupyter notebook, IPython, or Google Colab — which already has a running event loop. In such environments, asyncio.run() cannot be used.\n",
    "\n",
    "\n",
    "import asyncio\n",
    "\n",
    "async def say_hello():\n",
    "    print(\"Hello\")\n",
    "    await asyncio.sleep(1)\n",
    "    print(\"World\")\n",
    "\n",
    "await say_hello()  #Use this in notebooks\n"
   ]
  },
  {
   "cell_type": "markdown",
   "id": "eaeeb247",
   "metadata": {},
   "source": [
    "\n",
    "1. **Why use asyncio?**\n",
    "\n",
    "* Efficiently handles **I/O-bound tasks**.\n",
    "* Avoids blocking the program.\n",
    "* Great for **web servers**, **APIs**, **task queues**, and **DB queries**.\n",
    "\n",
    "2. **Important asyncio Methods**\n",
    "\n",
    "* `asyncio.sleep(n)`: Non-blocking sleep for `n` seconds.\n",
    "* `asyncio.gather(*tasks)`: Run multiple coroutines concurrently.\n",
    "* `asyncio.create_task()`: Schedule coroutine to run in the background.\n",
    "\n",
    "3. **Use Cases**\n",
    "\n",
    "* Web scraping\n",
    "* Web servers (e.g., FastAPI, aiohttp)\n",
    "* Network calls\n",
    "* Async database access\n"
   ]
  },
  {
   "cell_type": "markdown",
   "id": "aa4d4719",
   "metadata": {},
   "source": []
  },
  {
   "cell_type": "markdown",
   "id": "79b1865c",
   "metadata": {},
   "source": []
  }
 ],
 "metadata": {
  "kernelspec": {
   "display_name": ".venv",
   "language": "python",
   "name": "python3"
  },
  "language_info": {
   "codemirror_mode": {
    "name": "ipython",
    "version": 3
   },
   "file_extension": ".py",
   "mimetype": "text/x-python",
   "name": "python",
   "nbconvert_exporter": "python",
   "pygments_lexer": "ipython3",
   "version": "3.10.9"
  }
 },
 "nbformat": 4,
 "nbformat_minor": 5
}
